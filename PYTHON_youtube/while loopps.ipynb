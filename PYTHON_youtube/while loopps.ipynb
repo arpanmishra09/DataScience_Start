{
 "cells": [
  {
   "cell_type": "code",
   "execution_count": 3,
   "metadata": {},
   "outputs": [
    {
     "name": "stdout",
     "output_type": "stream",
     "text": [
      "10\n"
     ]
    }
   ],
   "source": [
    "total = 0\n",
    "j=1\n",
    "while j < 5:\n",
    "    total += j\n",
    "    j += 1\n",
    "print (total)"
   ]
  },
  {
   "cell_type": "code",
   "execution_count": 7,
   "metadata": {},
   "outputs": [
    {
     "name": "stdout",
     "output_type": "stream",
     "text": [
      "17\n"
     ]
    }
   ],
   "source": [
    "given_list= [5, 4, 4, 3, 1, -2, -3, -5]\n",
    "total1 = 0\n",
    "i=0\n",
    "while given_list[i] > 0 :\n",
    "    total1 += given_list [i]\n",
    "    i+=1\n",
    "print (total1)\n",
    "    \n",
    "    "
   ]
  },
  {
   "cell_type": "code",
   "execution_count": 9,
   "metadata": {},
   "outputs": [
    {
     "name": "stdout",
     "output_type": "stream",
     "text": [
      "17\n"
     ]
    }
   ],
   "source": [
    "given_list1= [5, 4, 4, 3, 1]\n",
    "total2= 0\n",
    "j=0\n",
    "while j < len(given_list1) and given_list1[j] > 0:\n",
    "    total2 += given_list1 [j]\n",
    "    j += 1\n",
    "print (total2)"
   ]
  },
  {
   "cell_type": "code",
   "execution_count": 25,
   "metadata": {},
   "outputs": [
    {
     "name": "stdout",
     "output_type": "stream",
     "text": [
      "-17\n"
     ]
    }
   ],
   "source": [
    "# adding up the negative numbers given length of the list is unknown\n",
    "given_list2= [7, 5, 4, 4, 3, 1, -2, -3, -5, -7]\n",
    "\n",
    "total5= 0\n",
    "r = len (given_list2) - 1\n",
    "while given_list2[r] < 0:\n",
    "    total5 += given_list2[r]\n",
    "    r -= 1\n",
    "print (total5)"
   ]
  },
  {
   "cell_type": "code",
   "execution_count": null,
   "metadata": {},
   "outputs": [],
   "source": []
  }
 ],
 "metadata": {
  "kernelspec": {
   "display_name": "Python 3",
   "language": "python",
   "name": "python3"
  },
  "language_info": {
   "codemirror_mode": {
    "name": "ipython",
    "version": 3
   },
   "file_extension": ".py",
   "mimetype": "text/x-python",
   "name": "python",
   "nbconvert_exporter": "python",
   "pygments_lexer": "ipython3",
   "version": "3.8.5"
  }
 },
 "nbformat": 4,
 "nbformat_minor": 4
}
