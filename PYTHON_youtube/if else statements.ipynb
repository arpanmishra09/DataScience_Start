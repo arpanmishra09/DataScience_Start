{
 "cells": [
  {
   "cell_type": "code",
   "execution_count": 5,
   "metadata": {},
   "outputs": [
    {
     "name": "stdout",
     "output_type": "stream",
     "text": [
      "a is less than b\n"
     ]
    }
   ],
   "source": [
    "a = 1\n",
    "b = 2\n",
    "if a < b:\n",
    "    print ('a is less than b')\n",
    "else : \n",
    "    print('not sure if a is less tha b')"
   ]
  },
  {
   "cell_type": "code",
   "execution_count": 12,
   "metadata": {},
   "outputs": [
    {
     "name": "stdout",
     "output_type": "stream",
     "text": [
      "C is greater than d by 10 \n"
     ]
    }
   ],
   "source": [
    "c = 20\n",
    "d = 5\n",
    "if c < d:\n",
    "    print ('c is less than d')\n",
    "elif c == d:\n",
    "    print ('c is equal to d')\n",
    "elif c> d+10:\n",
    "    print ('C is greater than d by 10 ')\n",
    "else:\n",
    "    print ('c is not less than d')"
   ]
  },
  {
   "cell_type": "code",
   "execution_count": 16,
   "metadata": {},
   "outputs": [
    {
     "name": "stdout",
     "output_type": "stream",
     "text": [
      "C is greater than d\n"
     ]
    }
   ],
   "source": [
    "c = 20\n",
    "d = 5\n",
    "if c < d:\n",
    "    print ('c is less than d')\n",
    "else:\n",
    "    if c == d:\n",
    "        print ('c is equal to d')\n",
    "    else:\n",
    "        print ('C is greater than d')"
   ]
  },
  {
   "cell_type": "code",
   "execution_count": 19,
   "metadata": {},
   "outputs": [
    {
     "name": "stdout",
     "output_type": "stream",
     "text": [
      "bmi: \n",
      "27.5\n",
      "yk\n",
      "is overweight\n"
     ]
    }
   ],
   "source": [
    "name = 'yk'\n",
    "height_m = 2 \n",
    "weight_kg =110\n",
    "\n",
    "bmi = weight_kg / (height_m **2)\n",
    "print ('bmi: ')\n",
    "print (bmi)\n",
    "if bmi < 25:\n",
    "    print (name)\n",
    "    print ('is not overweight')\n",
    "else:\n",
    "    print (name)\n",
    "    print ('is overweight')"
   ]
  },
  {
   "cell_type": "code",
   "execution_count": null,
   "metadata": {},
   "outputs": [],
   "source": []
  },
  {
   "cell_type": "code",
   "execution_count": null,
   "metadata": {},
   "outputs": [],
   "source": []
  }
 ],
 "metadata": {
  "kernelspec": {
   "display_name": "Python 3",
   "language": "python",
   "name": "python3"
  },
  "language_info": {
   "codemirror_mode": {
    "name": "ipython",
    "version": 3
   },
   "file_extension": ".py",
   "mimetype": "text/x-python",
   "name": "python",
   "nbconvert_exporter": "python",
   "pygments_lexer": "ipython3",
   "version": "3.8.5"
  }
 },
 "nbformat": 4,
 "nbformat_minor": 4
}
